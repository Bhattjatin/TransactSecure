{
 "cells": [
  {
   "cell_type": "code",
   "execution_count": 2,
   "id": "3fda7f7a-83b1-469d-8f20-c74eba89727e",
   "metadata": {},
   "outputs": [
    {
     "name": "stdout",
     "output_type": "stream",
     "text": [
      "Requirement already satisfied: pandas in ./lib/python3.13/site-packages (2.2.3)\n",
      "Requirement already satisfied: numpy>=1.26.0 in ./lib/python3.13/site-packages (from pandas) (2.1.2)\n",
      "Requirement already satisfied: python-dateutil>=2.8.2 in ./lib/python3.13/site-packages (from pandas) (2.9.0.post0)\n",
      "Requirement already satisfied: pytz>=2020.1 in ./lib/python3.13/site-packages (from pandas) (2024.2)\n",
      "Requirement already satisfied: tzdata>=2022.7 in ./lib/python3.13/site-packages (from pandas) (2024.2)\n",
      "Requirement already satisfied: six>=1.5 in ./lib/python3.13/site-packages (from python-dateutil>=2.8.2->pandas) (1.16.0)\n"
     ]
    }
   ],
   "source": [
    "!pip3 install pandas"
   ]
  },
  {
   "cell_type": "code",
   "execution_count": 3,
   "id": "ce2aa850-533e-46de-94f7-1ca04ece80da",
   "metadata": {},
   "outputs": [
    {
     "name": "stdout",
     "output_type": "stream",
     "text": [
      "Requirement already satisfied: seaborn in ./lib/python3.13/site-packages (0.13.2)\n",
      "Requirement already satisfied: numpy!=1.24.0,>=1.20 in ./lib/python3.13/site-packages (from seaborn) (2.1.2)\n",
      "Requirement already satisfied: pandas>=1.2 in ./lib/python3.13/site-packages (from seaborn) (2.2.3)\n",
      "Requirement already satisfied: matplotlib!=3.6.1,>=3.4 in ./lib/python3.13/site-packages (from seaborn) (3.9.2)\n",
      "Requirement already satisfied: contourpy>=1.0.1 in ./lib/python3.13/site-packages (from matplotlib!=3.6.1,>=3.4->seaborn) (1.3.0)\n",
      "Requirement already satisfied: cycler>=0.10 in ./lib/python3.13/site-packages (from matplotlib!=3.6.1,>=3.4->seaborn) (0.12.1)\n",
      "Requirement already satisfied: fonttools>=4.22.0 in ./lib/python3.13/site-packages (from matplotlib!=3.6.1,>=3.4->seaborn) (4.54.1)\n",
      "Requirement already satisfied: kiwisolver>=1.3.1 in ./lib/python3.13/site-packages (from matplotlib!=3.6.1,>=3.4->seaborn) (1.4.7)\n",
      "Requirement already satisfied: packaging>=20.0 in ./lib/python3.13/site-packages (from matplotlib!=3.6.1,>=3.4->seaborn) (24.1)\n",
      "Requirement already satisfied: pillow>=8 in ./lib/python3.13/site-packages (from matplotlib!=3.6.1,>=3.4->seaborn) (10.4.0)\n",
      "Requirement already satisfied: pyparsing>=2.3.1 in ./lib/python3.13/site-packages (from matplotlib!=3.6.1,>=3.4->seaborn) (3.2.0)\n",
      "Requirement already satisfied: python-dateutil>=2.7 in ./lib/python3.13/site-packages (from matplotlib!=3.6.1,>=3.4->seaborn) (2.9.0.post0)\n",
      "Requirement already satisfied: pytz>=2020.1 in ./lib/python3.13/site-packages (from pandas>=1.2->seaborn) (2024.2)\n",
      "Requirement already satisfied: tzdata>=2022.7 in ./lib/python3.13/site-packages (from pandas>=1.2->seaborn) (2024.2)\n",
      "Requirement already satisfied: six>=1.5 in ./lib/python3.13/site-packages (from python-dateutil>=2.7->matplotlib!=3.6.1,>=3.4->seaborn) (1.16.0)\n"
     ]
    }
   ],
   "source": [
    "!pip3 install seaborn\n"
   ]
  },
  {
   "cell_type": "code",
   "execution_count": 9,
   "id": "2506859d-981a-4065-80da-71d3d5157927",
   "metadata": {},
   "outputs": [
    {
     "data": {
      "text/html": [
       "<div>\n",
       "<style scoped>\n",
       "    .dataframe tbody tr th:only-of-type {\n",
       "        vertical-align: middle;\n",
       "    }\n",
       "\n",
       "    .dataframe tbody tr th {\n",
       "        vertical-align: top;\n",
       "    }\n",
       "\n",
       "    .dataframe thead th {\n",
       "        text-align: right;\n",
       "    }\n",
       "</style>\n",
       "<table border=\"1\" class=\"dataframe\">\n",
       "  <thead>\n",
       "    <tr style=\"text-align: right;\">\n",
       "      <th></th>\n",
       "      <th>step</th>\n",
       "      <th>type</th>\n",
       "      <th>amount</th>\n",
       "      <th>nameOrig</th>\n",
       "      <th>oldbalanceOrg</th>\n",
       "      <th>newbalanceOrig</th>\n",
       "      <th>nameDest</th>\n",
       "      <th>oldbalanceDest</th>\n",
       "      <th>newbalanceDest</th>\n",
       "      <th>isFraud</th>\n",
       "      <th>isFlaggedFraud</th>\n",
       "    </tr>\n",
       "  </thead>\n",
       "  <tbody>\n",
       "    <tr>\n",
       "      <th>0</th>\n",
       "      <td>1</td>\n",
       "      <td>PAYMENT</td>\n",
       "      <td>9839.64</td>\n",
       "      <td>C1231006815</td>\n",
       "      <td>170136.0</td>\n",
       "      <td>160296.36</td>\n",
       "      <td>M1979787155</td>\n",
       "      <td>0.0</td>\n",
       "      <td>0.0</td>\n",
       "      <td>0</td>\n",
       "      <td>0</td>\n",
       "    </tr>\n",
       "    <tr>\n",
       "      <th>1</th>\n",
       "      <td>1</td>\n",
       "      <td>PAYMENT</td>\n",
       "      <td>1864.28</td>\n",
       "      <td>C1666544295</td>\n",
       "      <td>21249.0</td>\n",
       "      <td>19384.72</td>\n",
       "      <td>M2044282225</td>\n",
       "      <td>0.0</td>\n",
       "      <td>0.0</td>\n",
       "      <td>0</td>\n",
       "      <td>0</td>\n",
       "    </tr>\n",
       "    <tr>\n",
       "      <th>2</th>\n",
       "      <td>1</td>\n",
       "      <td>TRANSFER</td>\n",
       "      <td>181.00</td>\n",
       "      <td>C1305486145</td>\n",
       "      <td>181.0</td>\n",
       "      <td>0.00</td>\n",
       "      <td>C553264065</td>\n",
       "      <td>0.0</td>\n",
       "      <td>0.0</td>\n",
       "      <td>1</td>\n",
       "      <td>0</td>\n",
       "    </tr>\n",
       "    <tr>\n",
       "      <th>3</th>\n",
       "      <td>1</td>\n",
       "      <td>CASH_OUT</td>\n",
       "      <td>181.00</td>\n",
       "      <td>C840083671</td>\n",
       "      <td>181.0</td>\n",
       "      <td>0.00</td>\n",
       "      <td>C38997010</td>\n",
       "      <td>21182.0</td>\n",
       "      <td>0.0</td>\n",
       "      <td>1</td>\n",
       "      <td>0</td>\n",
       "    </tr>\n",
       "    <tr>\n",
       "      <th>4</th>\n",
       "      <td>1</td>\n",
       "      <td>PAYMENT</td>\n",
       "      <td>11668.14</td>\n",
       "      <td>C2048537720</td>\n",
       "      <td>41554.0</td>\n",
       "      <td>29885.86</td>\n",
       "      <td>M1230701703</td>\n",
       "      <td>0.0</td>\n",
       "      <td>0.0</td>\n",
       "      <td>0</td>\n",
       "      <td>0</td>\n",
       "    </tr>\n",
       "  </tbody>\n",
       "</table>\n",
       "</div>"
      ],
      "text/plain": [
       "   step      type    amount     nameOrig  oldbalanceOrg  newbalanceOrig  \\\n",
       "0     1   PAYMENT   9839.64  C1231006815       170136.0       160296.36   \n",
       "1     1   PAYMENT   1864.28  C1666544295        21249.0        19384.72   \n",
       "2     1  TRANSFER    181.00  C1305486145          181.0            0.00   \n",
       "3     1  CASH_OUT    181.00   C840083671          181.0            0.00   \n",
       "4     1   PAYMENT  11668.14  C2048537720        41554.0        29885.86   \n",
       "\n",
       "      nameDest  oldbalanceDest  newbalanceDest  isFraud  isFlaggedFraud  \n",
       "0  M1979787155             0.0             0.0        0               0  \n",
       "1  M2044282225             0.0             0.0        0               0  \n",
       "2   C553264065             0.0             0.0        1               0  \n",
       "3    C38997010         21182.0             0.0        1               0  \n",
       "4  M1230701703             0.0             0.0        0               0  "
      ]
     },
     "execution_count": 9,
     "metadata": {},
     "output_type": "execute_result"
    }
   ],
   "source": [
    "# Step 1: Import necessary libraries\n",
    "import pandas as pd\n",
    "import numpy as np\n",
    "import seaborn as sns\n",
    "import matplotlib.pyplot as plt\n",
    "\n",
    "# Step 2: Load the dataset\n",
    "df = pd.read_csv('/Users/jatinbhatt/Desktop/venv/Fraud.csv')\n",
    "\n",
    "# Step 3: Display the first few rows of the dataset\n",
    "df.head()\n"
   ]
  },
  {
   "cell_type": "code",
   "execution_count": 10,
   "id": "20b13809-fdbf-4867-8cf4-b0f7b66604d6",
   "metadata": {},
   "outputs": [
    {
     "name": "stdout",
     "output_type": "stream",
     "text": [
      "Sampled dataset shape: (636262, 11)\n"
     ]
    }
   ],
   "source": [
    "# Sample 10% of the dataset\n",
    "df_sample = df.sample(frac=0.1, random_state=42)  # Adjust the fraction as needed\n",
    "\n",
    "# Display the shape of the reduced dataset\n",
    "print(\"Sampled dataset shape:\", df_sample.shape)\n",
    "\n"
   ]
  },
  {
   "cell_type": "code",
   "execution_count": 11,
   "id": "5f83a84f-d02c-4c9e-8731-b221b80b7b40",
   "metadata": {},
   "outputs": [
    {
     "data": {
      "image/png": "[encoded data removed]",
      "text/plain": [
       "<Figure size 640x480 with 1 Axes>"
      ]
     },
     "metadata": {},
     "output_type": "display_data"
    }
   ],
   "source": [
    "# Check for missing values\n",
    "df_sample.isnull().sum()\n",
    "\n",
    "# Get summary statistics of numerical columns\n",
    "df_sample.describe()\n",
    "\n",
    "# Checking for outliers in 'amount'\n",
    "df_sample['amount'].describe()\n",
    "\n",
    "# Plotting a boxplot for 'amount' to check for outliers\n",
    "sns.boxplot(df_sample['amount'])\n",
    "plt.show()\n"
   ]
  },
  {
   "cell_type": "code",
   "execution_count": 18,
   "id": "a79abbda-46d5-4fac-bbee-89be9051857b",
   "metadata": {},
   "outputs": [
    {
     "data": {
      "image/png": "[encoded data removed]",
      "text/plain": [
       "<Figure size 640x480 with 2 Axes>"
      ]
     },
     "metadata": {},
     "output_type": "display_data"
    }
   ],
   "source": [
    "# Step 1: Creating new features for balance differences\n",
    "df_sample['balanceOrigDiff'] = df_sample['newbalanceOrig'] - df_sample['oldbalanceOrg']\n",
    "df_sample['balanceDestDiff'] = df_sample['newbalanceDest'] - df_sample['oldbalanceDest']\n",
    "\n",
    "# Step 2: Check for multicollinearity using correlation matrix\n",
    "corr = df_sample[['amount', 'oldbalanceOrg', 'newbalanceOrig', 'oldbalanceDest', 'newbalanceDest']].corr()\n",
    "\n",
    "# Plot the correlation heatmap\n",
    "sns.heatmap(corr, annot=True, cmap='coolwarm')\n",
    "plt.show()\n"
   ]
  },
  {
   "cell_type": "code",
   "execution_count": 13,
   "id": "0b13dfdf-d70c-4fbb-a6f8-b9813833051c",
   "metadata": {},
   "outputs": [
    {
     "name": "stdout",
     "output_type": "stream",
     "text": [
      "Requirement already satisfied: scikit-learn in ./lib/python3.13/site-packages (1.5.2)\n",
      "Requirement already satisfied: numpy>=1.19.5 in ./lib/python3.13/site-packages (from scikit-learn) (2.1.2)\n",
      "Requirement already satisfied: scipy>=1.6.0 in ./lib/python3.13/site-packages (from scikit-learn) (1.14.1)\n",
      "Requirement already satisfied: joblib>=1.2.0 in ./lib/python3.13/site-packages (from scikit-learn) (1.4.2)\n",
      "Requirement already satisfied: threadpoolctl>=3.1.0 in ./lib/python3.13/site-packages (from scikit-learn) (3.5.0)\n"
     ]
    }
   ],
   "source": [
    "!pip3 install scikit-learn\n"
   ]
  },
  {
   "cell_type": "code",
   "execution_count": 20,
   "id": "898a1c14-8129-4ae3-b5c7-488ec9a70013",
   "metadata": {},
   "outputs": [
    {
     "name": "stdout",
     "output_type": "stream",
     "text": [
      "Original dataset shape: (6362620, 11)\n",
      "Sampled dataset shape: (636262, 11)\n",
      "Reduced dataset shape after dropping columns: (636262, 9)\n",
      "step                 int64\n",
      "amount             float64\n",
      "oldbalanceOrg      float64\n",
      "newbalanceOrig     float64\n",
      "oldbalanceDest     float64\n",
      "newbalanceDest     float64\n",
      "isFlaggedFraud       int64\n",
      "type_CASH_OUT         bool\n",
      "type_DEBIT            bool\n",
      "type_PAYMENT          bool\n",
      "type_TRANSFER         bool\n",
      "balanceOrigDiff    float64\n",
      "balanceDestDiff    float64\n",
      "dtype: object\n",
      "step: [278  15  10 403 206 259 188 139 230 544  45 163 211 302  18 322 158 131\n",
      " 253 132 283  43 642 164 326  37   9 157 406 235 346  19 208 332 304 686\n",
      " 226 201  14 323 225 138  41 399 120 373 179 369 275 396 162  22 229 234\n",
      " 352 186 469 288 204 232 192  13 281 379 159 324 405 380 307 404  36 401\n",
      " 228 236 297  12 300 564 254 181 356 203 178  11 255  35 542 240 325   8\n",
      " 142 284 189 328 187 335 276 190  38 154 183 357 205 287 514 231 250 378\n",
      " 349 252 161 202 354 333 571 257 353 155  20 305 348 301   7 191 207 212\n",
      " 137  94 374  42 656 299 182 330  39 249 331 136 644 355  40 303 350 227\n",
      " 590 177 184 185 382  95 129  44 393 306 289  46 156 395 518 258  34 140\n",
      " 233 210 683 402 216 160 500 589 596 375 522 684 496 308 251 377 237  17\n",
      " 213 692 134 371 525 280 431 398 141 145 180 282 294 166 528 573 383 594\n",
      " 394 193 351  48 448 274 329 135  16  33 345 408 407 298 321 209  21 165\n",
      " 277 279 548 261 370 476 588 397 567 493 549 451 241 262 372 239 309 400\n",
      " 327 133  96 474 144 260 442 238 381 256 563 471   1 310 360 376 119 121\n",
      "  47 130 264 361 587 687 313  24  51 550 359 426 311 570 285 347 358 215\n",
      " 312 661 582 169 592 565 595 263 576 492 334  49 538 167 422  26 577 520\n",
      " 691  23 490 214 637 286 673 709 670 384 503 168 153 273 439 478 689 690\n",
      " 688 640 597  93 143 223 487   4 362 545 614   5 540 546 681  25 599 659\n",
      " 574 336 495 694 621 467 416   6 217 695   2 429 530 428 449 385 710 601\n",
      " 419 674 502 610 667 526 617 608 717 524 170 664 555 569 586 527 194 409\n",
      " 705 547 566 479 612 265 483 619 672 585 649 626 338 420 125 242 386 505\n",
      " 552 718 517 715 557 509 290 466 613 413 266 551 630 707 584 714  97 455\n",
      "  60  53 452 423 669 443 671 699 643 436  32 701 453 454 458 268  85 314\n",
      " 598   3 648 624 534 578 460 625 464 337 716 421 461 146 267  66 485 122\n",
      " 675 736 390 475 319 531 600 105 532 721 195 412 562 639 340 629 147 491\n",
      " 291 722 658  59 679 123 580  27 272 698 609 633 438 462 631  61 731  31\n",
      "  74 641 151 367 655 508  64 417 410 488 529  65 486 712 700 494 106 224\n",
      " 611 651 296 489 713 636 482 470 343  29 392 519 685 128 473 148 603 472\n",
      " 484 118 605 199 110  90 702 523 342 450  84 174 724 477 607 414 108 171\n",
      " 533 581 660 101 537 725 339 591 465 720 424 711 221 726 243 444 218 292\n",
      " 446 645 706 481 741  79 719 568 430 543 572 729 665 425 437 742  80 434\n",
      " 498 366  83 124 411 680 316 149 615  91 320  78  99  92  75 269 513 652\n",
      " 583 697  88 556  69 510 723 696 295 561  56 363 704 733 620 459 315 441\n",
      " 708 456 638 521 109 176 175 222 317  30  98 668 173 634 558 657 198 341\n",
      " 127 501 271 365 111 447 463 418 554 388 440 536 219 387 650 511 738 602\n",
      "  71 647]\n",
      "amount: [330218.42  11647.08 152264.21 ...  11321.01   2791.68 460420.24]\n",
      "oldbalanceOrg: [  20866.     30370.    106589.   ... 6569108.86  150138.24  325415.49]\n",
      "newbalanceOrig: [351084.42  18722.92 258853.21 ...   8549.14  55935.32 785835.73]\n",
      "oldbalanceDest: [ 452419.57       0.    201303.01 ...  932883.24 4417140.07  968376.76]\n",
      "newbalanceDest: [ 122201.15       0.     49038.8  ... 1348605.16 4418408.76  507956.51]\n",
      "isFlaggedFraud: [0 1]\n",
      "type_CASH_OUT: [False  True]\n",
      "type_DEBIT: [False  True]\n",
      "type_PAYMENT: [False  True]\n",
      "type_TRANSFER: [False  True]\n",
      "balanceOrigDiff: [330218.42 -11647.08 152264.21 ...   -475.86  -2791.68 460420.24]\n",
      "balanceDestDiff: [-330218.42       0.   -152264.21 ...  415721.92    1268.69 -460420.25]\n",
      "              precision    recall  f1-score   support\n",
      "\n",
      "           0       1.00      1.00      1.00    127079\n",
      "           1       0.99      0.75      0.86       174\n",
      "\n",
      "    accuracy                           1.00    127253\n",
      "   macro avg       1.00      0.88      0.93    127253\n",
      "weighted avg       1.00      1.00      1.00    127253\n",
      "\n",
      "Confusion Matrix:\n",
      " [[127078      1]\n",
      " [    43    131]]\n",
      "ROC-AUC Score: 0.8764328470488038\n"
     ]
    }
   ],
   "source": [
    "# Import necessary libraries\n",
    "import pandas as pd\n",
    "import numpy as np\n",
    "import seaborn as sns\n",
    "import matplotlib.pyplot as plt\n",
    "from sklearn.model_selection import train_test_split\n",
    "from sklearn.ensemble import RandomForestClassifier\n",
    "from sklearn.metrics import classification_report, confusion_matrix, roc_auc_score\n",
    "\n",
    "# Step 1: Load the dataset\n",
    "df = pd.read_csv('Fraud.csv')\n",
    "\n",
    "# Display the original shape of the dataset\n",
    "print(\"Original dataset shape:\", df.shape)\n",
    "\n",
    "# Step 2: Sample 10% of the dataset\n",
    "df_sample = df.sample(frac=0.1, random_state=42)  # Adjust the fraction as needed\n",
    "\n",
    "# Display the shape of the sampled dataset\n",
    "print(\"Sampled dataset shape:\", df_sample.shape)\n",
    "\n",
    "# Step 3: Drop unnecessary columns (for example, 'nameOrig' and 'nameDest')\n",
    "df_sample = df_sample.drop(['nameOrig', 'nameDest'], axis=1)\n",
    "\n",
    "# Display the shape after dropping columns\n",
    "print(\"Reduced dataset shape after dropping columns:\", df_sample.shape)\n",
    "\n",
    "# Step 4: Convert categorical variables to numeric using One-Hot Encoding\n",
    "# Ensure the 'type' column is included for encoding\n",
    "df_sample = pd.get_dummies(df_sample, columns=['type'], drop_first=True)\n",
    "\n",
    "# Step 5: Create new features for balance differences\n",
    "df_sample['balanceOrigDiff'] = df_sample['newbalanceOrig'] - df_sample['oldbalanceOrg']\n",
    "df_sample['balanceDestDiff'] = df_sample['newbalanceDest'] - df_sample['oldbalanceDest']\n",
    "\n",
    "# Step 6: Prepare features (X) and target variable (y)\n",
    "X = df_sample.drop(['isFraud'], axis=1)  # Features\n",
    "y = df_sample['isFraud']  # Target variable\n",
    "\n",
    "# Check the data types of features in X to ensure all are numeric\n",
    "print(X.dtypes)\n",
    "\n",
    "# Check unique values in each column of X to find any non-numeric values\n",
    "for col in X.columns:\n",
    "    print(f\"{col}: {X[col].unique()}\")\n",
    "\n",
    "# Step 7: Split the data into training and validation sets\n",
    "X_train, X_val, y_train, y_val = train_test_split(X, y, test_size=0.2, random_state=42)\n",
    "\n",
    "# Step 8: Train Random Forest Classifier\n",
    "model = RandomForestClassifier(random_state=42)\n",
    "model.fit(X_train, y_train)\n",
    "\n",
    "# Step 9: Make predictions\n",
    "y_pred = model.predict(X_val)\n",
    "\n",
    "# Step 10: Model evaluation\n",
    "print(classification_report(y_val, y_pred))\n",
    "print(\"Confusion Matrix:\\n\", confusion_matrix(y_val, y_pred))\n",
    "print(\"ROC-AUC Score:\", roc_auc_score(y_val, y_pred))\n"
   ]
  },
  {
   "cell_type": "code",
   "execution_count": null,
   "id": "5abfecd8-e25d-432c-a98a-4fb117b3bb6e",
   "metadata": {},
   "outputs": [],
   "source": []
  }
 ],
 "metadata": {
  "kernelspec": {
   "display_name": "Python 3 (ipykernel)",
   "language": "python",
   "name": "python3"
  },
  "language_info": {
   "codemirror_mode": {
    "name": "ipython",
    "version": 3
   },
   "file_extension": ".py",
   "mimetype": "text/x-python",
   "name": "python",
   "nbconvert_exporter": "python",
   "pygments_lexer": "ipython3",
   "version": "3.13.0"
  }
 },
 "nbformat": 4,
 "nbformat_minor": 5
}
